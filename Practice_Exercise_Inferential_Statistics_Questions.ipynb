{
  "cells": [
    {
      "cell_type": "markdown",
      "metadata": {
        "id": "XeV1U7GkVNZY"
      },
      "source": [
        "## **Importing necessary libraries**"
      ]
    },
    {
      "cell_type": "code",
      "source": [],
      "metadata": {
        "id": "ra20y9CJuhez"
      },
      "execution_count": null,
      "outputs": []
    },
    {
      "cell_type": "code",
      "source": [
        "from google.colab import drive\n",
        "drive.mount('/content/drive')"
      ],
      "metadata": {
        "colab": {
          "base_uri": "https://localhost:8080/"
        },
        "id": "xJadX6Ljuize",
        "outputId": "9309bd8d-2dc5-4035-e6de-20aa1f0fc8bd"
      },
      "execution_count": null,
      "outputs": [
        {
          "output_type": "stream",
          "name": "stdout",
          "text": [
            "Mounted at /content/drive\n"
          ]
        }
      ]
    },
    {
      "cell_type": "code",
      "execution_count": null,
      "metadata": {
        "id": "219CEYUFVNZn"
      },
      "outputs": [],
      "source": [
        "# import the important packages\n",
        "import pandas as pd  # library used for data manipulation and analysis\n",
        "\n",
        "import numpy as np  # library used for working with arrays\n",
        "\n",
        "import matplotlib.pyplot as plt  # library for visualization\n",
        "\n",
        "import seaborn as sns  # library for visualization\n",
        "\n",
        "%matplotlib inline\n",
        "\n",
        "import scipy.stats as stats  # this library contains a large number of probability distributions as well as a growing library of statistical functions"
      ]
    },
    {
      "cell_type": "markdown",
      "metadata": {
        "id": "zwbR4fdpVNZp"
      },
      "source": [
        "# Binomial Distribution"
      ]
    },
    {
      "cell_type": "markdown",
      "metadata": {
        "id": "iLvUFh_6VNZp"
      },
      "source": [
        "### Q1. A LED bulb manufacturing company regularly conducts quality checks at specified periods on the products it manufactures.  Historically, the failure rate for LED light bulbs that the company manufactures is 5%. Suppose a random sample of 10 LED light bulbs is selected. Find the probability distribution for the defective bulbs and answer the following questions."
      ]
    },
    {
      "cell_type": "markdown",
      "metadata": {
        "id": "U8C34C7HVNZr"
      },
      "source": [
        "**a) What is the probability that none of the LED bulbs are defective?**"
      ]
    },
    {
      "cell_type": "code",
      "source": [
        "# import the required function\n",
        "from scipy.stats import binom\n",
        "\n",
        "# use the binom.pmf() function to generate the probability distribution\n",
        "binomial = binom.pmf(k=k, n=n, p=p)"
      ],
      "metadata": {
        "id": "v1QlcpTovRiU"
      },
      "execution_count": null,
      "outputs": []
    },
    {
      "cell_type": "code",
      "execution_count": null,
      "metadata": {
        "id": "yenN_WdLaeMa"
      },
      "outputs": [],
      "source": [
        "n=10\n",
        "p=.05\n",
        "k = np.arange(0,11)"
      ]
    },
    {
      "cell_type": "code",
      "source": [
        "plt.bar(k,binomial)\n",
        "plt.title('Binoliam: n=%i, p=%.2f' % (n,p), fontsize = 15)\n",
        "plt.xlabel('number of successes')\n",
        "plt.ylabel('probability of success')\n",
        "plt.show()"
      ],
      "metadata": {
        "colab": {
          "base_uri": "https://localhost:8080/",
          "height": 297
        },
        "id": "iDikJpxqvktu",
        "outputId": "2067c76f-de76-4d63-a705-e0f00f94547d"
      },
      "execution_count": null,
      "outputs": [
        {
          "output_type": "display_data",
          "data": {
            "text/plain": [
              "<Figure size 432x288 with 1 Axes>"
            ],
            "image/png": "[encoded data removed]"
          },
          "metadata": {
            "needs_background": "light"
          }
        }
      ]
    },
    {
      "cell_type": "markdown",
      "metadata": {
        "id": "siKk2kFfVNZs"
      },
      "source": [
        "**b) What is the probability that exactly one of the LED bulbs is defective?**"
      ]
    },
    {
      "cell_type": "code",
      "execution_count": null,
      "metadata": {
        "id": "Wo3kz9hwaeMb",
        "colab": {
          "base_uri": "https://localhost:8080/"
        },
        "outputId": "c4e30ab6-21dd-49e7-a061-f31127b53193"
      },
      "outputs": [
        {
          "output_type": "stream",
          "name": "stdout",
          "text": [
            "The probability that none of the LED bulbs are defective is 0.5987\n"
          ]
        }
      ],
      "source": [
        "print('The probability that none of the LED bulbs are defective is %1.4f' %binomial[0])"
      ]
    },
    {
      "cell_type": "markdown",
      "metadata": {
        "id": "sTKTp_VbVNZt"
      },
      "source": [
        "**c) What is the probability that two or fewer of the LED bulbs are defective?**"
      ]
    },
    {
      "cell_type": "markdown",
      "metadata": {
        "id": "_ETr7cSsVNZu"
      },
      "source": [
        "Hint: We need to calculate cumulative probability of two or fewer LED bulbs being defective."
      ]
    },
    {
      "cell_type": "code",
      "execution_count": null,
      "metadata": {
        "id": "KOj8G7k4aeMb",
        "colab": {
          "base_uri": "https://localhost:8080/"
        },
        "outputId": "413c5b3c-b9de-4be4-be78-9a1e4acf1eb5"
      },
      "outputs": [
        {
          "output_type": "stream",
          "name": "stdout",
          "text": [
            "The probability that exactly one of the LED bulbs is defective is 0.3151\n"
          ]
        }
      ],
      "source": [
        "print('The probability that exactly one of the LED bulbs is defective is %1.4f' %binomial[1])"
      ]
    },
    {
      "cell_type": "markdown",
      "metadata": {
        "id": "6D3d7vgNVNZv"
      },
      "source": [
        "**d) What is the probability that three or more of the LED bulbs are defective?**"
      ]
    },
    {
      "cell_type": "markdown",
      "metadata": {
        "id": "-EnDIeiTVNZv"
      },
      "source": [
        "Hint: We need to subtract the cumulative probability of up to 2 defective LED bulbs from 1."
      ]
    },
    {
      "cell_type": "code",
      "execution_count": null,
      "metadata": {
        "id": "dCS_yZufaeMc",
        "colab": {
          "base_uri": "https://localhost:8080/"
        },
        "outputId": "6d0359bd-9aee-423a-868f-9e1be714453b"
      },
      "outputs": [
        {
          "output_type": "stream",
          "name": "stdout",
          "text": [
            "The probability that two or fewer of the LED bulbs are defective is 0.9885\n"
          ]
        }
      ],
      "source": [
        "cumulative_binomial = stats.binom.cdf(k,n,p)\n",
        "print('The probability that two or fewer of the LED bulbs are defective is %1.4f' %cumulative_binomial[2])"
      ]
    },
    {
      "cell_type": "markdown",
      "metadata": {
        "id": "g7pg-lWiVNZx"
      },
      "source": [
        "### Q2. During an NBA game, a basketball player has two foul shots (free throw) and the conversion rate of free-throw shots is 93%. Find the following probabilities."
      ]
    },
    {
      "cell_type": "markdown",
      "metadata": {
        "id": "I1yejxesVNZx"
      },
      "source": [
        "**a) What is the probability that the player will convert both the shots?**"
      ]
    },
    {
      "cell_type": "code",
      "execution_count": null,
      "metadata": {
        "id": "y1jX9zKJaeMc"
      },
      "outputs": [],
      "source": []
    },
    {
      "cell_type": "markdown",
      "metadata": {
        "id": "0R1FriOVVNZy"
      },
      "source": [
        "**b) What is the probability that the player will convert at least one shot?**"
      ]
    },
    {
      "cell_type": "code",
      "execution_count": null,
      "metadata": {
        "id": "xy9RrrhMaeMd"
      },
      "outputs": [],
      "source": []
    },
    {
      "cell_type": "markdown",
      "metadata": {
        "id": "jeGWrHJhabri"
      },
      "source": [
        "### Q3.\tOver a long period in a large multinomial corporation, 10% of all sales trainees are rated as outstanding, 75% are rated as excellent, 10% are rated as satisfactory and 5% are considered unsatisfactory. Find the following probabilities for a sample of 10 trainees selected at random."
      ]
    },
    {
      "cell_type": "markdown",
      "metadata": {
        "id": "f0-NPUBiVNaG"
      },
      "source": [
        "**a) Two are rated as outstanding**"
      ]
    },
    {
      "cell_type": "code",
      "execution_count": null,
      "metadata": {
        "id": "-421QtcYaeMd"
      },
      "outputs": [],
      "source": []
    },
    {
      "cell_type": "markdown",
      "metadata": {
        "id": "RZCEMFSrVNaG"
      },
      "source": [
        "**b) Two or more are rated as outstanding**"
      ]
    },
    {
      "cell_type": "code",
      "execution_count": null,
      "metadata": {
        "id": "oQ2uhA8taeMe"
      },
      "outputs": [],
      "source": []
    },
    {
      "cell_type": "markdown",
      "metadata": {
        "id": "u5_21Ab8VNaH"
      },
      "source": [
        "**c) Eight of the ten are rated either outstanding or excellent**"
      ]
    },
    {
      "cell_type": "code",
      "execution_count": null,
      "metadata": {
        "id": "DTCvpKRzaeMe"
      },
      "outputs": [],
      "source": []
    },
    {
      "cell_type": "markdown",
      "metadata": {
        "id": "by_BuepFVNaH"
      },
      "source": [
        "**d) None of the trainees are rated as unsatisfactory**"
      ]
    },
    {
      "cell_type": "code",
      "execution_count": null,
      "metadata": {
        "id": "7Bl7uvFRaeMe"
      },
      "outputs": [],
      "source": []
    },
    {
      "cell_type": "markdown",
      "metadata": {
        "id": "xh7vsKOHVNZ8"
      },
      "source": [
        "# Normal Distribution"
      ]
    },
    {
      "cell_type": "markdown",
      "metadata": {
        "id": "yRiWnS4VabsT"
      },
      "source": [
        "### Q4. According to the Telecommunication Industry, the average monthly cell phone bill is Rs. 850 with a standard deviation of Rs. 150. Assuming that the monthly bill follows a normal distribution, answer the following questions."
      ]
    },
    {
      "cell_type": "markdown",
      "metadata": {
        "id": "MJ7wKYwvVNZ_"
      },
      "source": [
        "**a) What is the probability that a randomly selected cell phone bill is more than Rs 1200?**"
      ]
    },
    {
      "cell_type": "code",
      "execution_count": null,
      "metadata": {
        "id": "r84zdMDRaeMg"
      },
      "outputs": [],
      "source": []
    },
    {
      "cell_type": "markdown",
      "metadata": {
        "id": "1eoJzslRVNZ_"
      },
      "source": [
        "**b) What is the probability that a randomly selected cell phone bill is between Rs 750 and Rs 1200?**"
      ]
    },
    {
      "cell_type": "code",
      "execution_count": null,
      "metadata": {
        "id": "_eqzvDheaeMg"
      },
      "outputs": [],
      "source": []
    },
    {
      "cell_type": "markdown",
      "metadata": {
        "id": "tGxBocT6VNZ_"
      },
      "source": [
        "**c) What is the probability that a randomly selected cell phone bill is no more than Rs 650?**"
      ]
    },
    {
      "cell_type": "code",
      "execution_count": null,
      "metadata": {
        "id": "DeXADiggaeMg"
      },
      "outputs": [],
      "source": []
    },
    {
      "cell_type": "markdown",
      "metadata": {
        "id": "oFmIG_sqVNaA"
      },
      "source": [
        "**d) What is the amount above which lies top 15% of cell phone bills?**"
      ]
    },
    {
      "cell_type": "code",
      "execution_count": null,
      "metadata": {
        "id": "HtRciemRaeMh"
      },
      "outputs": [],
      "source": []
    },
    {
      "cell_type": "markdown",
      "metadata": {
        "id": "_lNAMUvvVNaA"
      },
      "source": [
        "**e) What is the amount below which lies bottom 25% of cell phone bills?**"
      ]
    },
    {
      "cell_type": "code",
      "execution_count": null,
      "metadata": {
        "id": "zNyubmckaeMh"
      },
      "outputs": [],
      "source": []
    },
    {
      "cell_type": "markdown",
      "metadata": {
        "id": "QmtfulFDVNaH"
      },
      "source": [
        "### Q5. The mean filling capacity for a coke bottle is 500 ml with a standard deviation of 20 ml. Assume that it follows a normal distribution and answer the following questions."
      ]
    },
    {
      "cell_type": "markdown",
      "metadata": {
        "id": "ak4RyMGVVNaI"
      },
      "source": [
        "**a) What is the probability that the bottle filled less than 480 ml?**"
      ]
    },
    {
      "cell_type": "code",
      "execution_count": null,
      "metadata": {
        "id": "iexbsJtWaeMh"
      },
      "outputs": [],
      "source": []
    },
    {
      "cell_type": "markdown",
      "metadata": {
        "id": "ILDdv_5fVNaI"
      },
      "source": [
        "**b) What is the probability that the bottle filled more than 520 ml?**"
      ]
    },
    {
      "cell_type": "code",
      "execution_count": null,
      "metadata": {
        "id": "nhY36ADLaeMh"
      },
      "outputs": [],
      "source": []
    },
    {
      "cell_type": "markdown",
      "metadata": {
        "id": "GDGLNR7dVNaJ"
      },
      "source": [
        "**c) What is the probability that the bottle filled between 470 ml to 525 ml?**"
      ]
    },
    {
      "cell_type": "code",
      "execution_count": null,
      "metadata": {
        "id": "e4s5mbb-aeMi"
      },
      "outputs": [],
      "source": []
    },
    {
      "cell_type": "markdown",
      "metadata": {
        "id": "7WFVLPL-VNaM"
      },
      "source": [
        "### Q6. In 2 Liter soft drink bottles, the drink filled is normally distributed, with a mean of 2.0 liters and a standard deviation of 0.05 liter. If bottles contain less than 95% of the listed net content (1.90 liters), the manufacturer may be subject to penalty by the state office of consumer affairs. Bottles that have a net quantity above 2.1 liters may cause excess spillage upon opening. Answer the following questions."
      ]
    },
    {
      "cell_type": "markdown",
      "metadata": {
        "id": "KJh8EodMVNaM"
      },
      "source": [
        "**a) What is the probability that the bottle content is between 1.9 and 2.0 liters?**"
      ]
    },
    {
      "cell_type": "code",
      "execution_count": null,
      "metadata": {
        "id": "K1aXj1baaeMi"
      },
      "outputs": [],
      "source": []
    },
    {
      "cell_type": "markdown",
      "metadata": {
        "id": "hZhrsYtoVNaN"
      },
      "source": [
        "**b) What is the probability that the bottle content is between 1.9 and 2.1 liters?**"
      ]
    },
    {
      "cell_type": "code",
      "execution_count": null,
      "metadata": {
        "id": "qQW73stQaeMi"
      },
      "outputs": [],
      "source": []
    },
    {
      "cell_type": "markdown",
      "metadata": {
        "id": "H6fG71TVVNaN"
      },
      "source": [
        "**c) What is the probability that the bottle content is below 1.9 liters or above 2.1 liters?**"
      ]
    },
    {
      "cell_type": "code",
      "execution_count": null,
      "metadata": {
        "id": "PRf6z2JuaeMi"
      },
      "outputs": [],
      "source": []
    },
    {
      "cell_type": "markdown",
      "metadata": {
        "id": "Qc1CMY6PVNaO"
      },
      "source": [
        "**d) 99% of the bottles contains at least what amount of soft drink in them?**"
      ]
    },
    {
      "cell_type": "code",
      "execution_count": null,
      "metadata": {
        "id": "nZEE2g-XaeMj"
      },
      "outputs": [],
      "source": []
    }
  ],
  "metadata": {
    "colab": {
      "collapsed_sections": [
        "g7pg-lWiVNZx"
      ],
      "provenance": []
    },
    "kernelspec": {
      "display_name": "Python 3",
      "language": "python",
      "name": "python3"
    },
    "language_info": {
      "codemirror_mode": {
        "name": "ipython",
        "version": 3
      },
      "file_extension": ".py",
      "mimetype": "text/x-python",
      "name": "python",
      "nbconvert_exporter": "python",
      "pygments_lexer": "ipython3",
      "version": "3.8.5"
    }
  },
  "nbformat": 4,
  "nbformat_minor": 0
}